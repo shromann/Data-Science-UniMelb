{
 "cells": [
  {
   "cell_type": "markdown",
   "metadata": {
    "deletable": true,
    "editable": true
   },
   "source": [
    "### The University of Melbourne, School of Computing and Information Systems\n",
    "# COMP30027 Machine Learning, 2021 Semester 1\n",
    "\n",
    "## Week 3 - workshop"
   ]
  },
  {
   "cell_type": "markdown",
   "metadata": {
    "canopy_exercise": {
     "cell_type": "hint"
    },
    "deletable": true,
    "editable": true
   },
   "source": [
    "Today, we will be working with a slightly modified version of the (very famous) Iris dataset, first\n",
    "discussed in:\n",
    "\n",
    "\\begin{align}\n",
    "{Fisher, R.A. (1936) The Use of Multiple Measurements in Taxonomic Problems, Annual Eugenics\n",
    "7(II), pp. 179–188.}\n",
    "\\end{align}\n",
    "\n",
    "This dataset (along with many others) is freely downloadable from the UCI Machine Learning Repository\n",
    "(https://archive.ics.uci.edu/ml/datasets/Iris). It also comes bundled with scikit-learn,\n",
    "but we will not be using that version today. \n",
    "\n",
    "The dataset and images, along with some of the problems in this worksheet have been adapted from work by Randal Olson (http://www.randalolson.com/) which we use under its Creative Commons license (https://creativecommons.org/licenses/by/4.0/)."
   ]
  },
  {
   "cell_type": "markdown",
   "metadata": {
    "deletable": true,
    "editable": true
   },
   "source": [
    "Before we start doing anything, let’s frame our problem:\n",
    "- Let’s say that we would like to build a system that can automatically predict the species of a flower, based on a photograph of that flower.\n",
    "- The data that we have collected at this point is a description of three kinds of Iris flowers: Iris setosa, Iris versicolor, and Iris virginica. (In the future, we hope to examine other species/genera of flowers.) We believe that the sepals and petals represent one possible source of useful information to help us solve this problem.\n",
    "- The data was collected by field researchers measuring certain properties of the sepals and petals on a sample of the three kinds of flower. (If some of this information proves useful, then we plan on incorporating image–processing software so that this can be discerned automatically.)"
   ]
  },
  {
   "cell_type": "markdown",
   "metadata": {
    "deletable": true,
    "editable": true
   },
   "source": [
    "Please ensure that the numpy, matplotlib, defaultdict and re packages are installed."
   ]
  },
  {
   "cell_type": "code",
   "execution_count": 2,
   "metadata": {
    "deletable": true,
    "editable": true
   },
   "outputs": [],
   "source": [
    "import numpy as np\n",
    "from collections import defaultdict\n",
    "import re\n",
    "import matplotlib.pyplot as plt\n",
    "%matplotlib inline"
   ]
  },
  {
   "cell_type": "markdown",
   "metadata": {
    "deletable": true,
    "editable": true
   },
   "source": [
    "### Exercise 1\n",
    "Begin by visually inspecting the raw data contained within the (textual) file `iris-data.csv`. Note that “inspecting the data” is mostly ineffectual for very large datasets. In fact, this is one of the main motivators for Machine Learning! :-)"
   ]
  },
  {
   "cell_type": "markdown",
   "metadata": {
    "deletable": true,
    "editable": true
   },
   "source": [
    "- How many instances are there? How many attributes? The instances have been labelled with class information—so this dataset is suitable for **supervised** machine learning — how many classes are there?"
   ]
  },
  {
   "cell_type": "markdown",
   "metadata": {
    "deletable": true,
    "editable": true
   },
   "source": [
    "- Confirm your observations by writing a function to count the instances, and keep track of how many instances of each class there are. (You might find the `string.split()` method useful.) "
   ]
  },
  {
   "cell_type": "code",
   "execution_count": 3,
   "metadata": {
    "collapsed": false,
    "deletable": true,
    "editable": true,
    "jupyter": {
     "outputs_hidden": false
    }
   },
   "outputs": [],
   "source": [
    "def count_inst(filestream, class_dict):\n",
    "    n_instances = 0\n",
    "    for line in filestream.readlines()[1:]:\n",
    "        ...\n",
    "    return n_instances"
   ]
  },
  {
   "cell_type": "code",
   "execution_count": 4,
   "metadata": {
    "collapsed": false,
    "jupyter": {
     "outputs_hidden": false
    }
   },
   "outputs": [
    {
     "name": "stdout",
     "output_type": "stream",
     "text": [
      "Our total number of instances is: 0\n"
     ]
    }
   ],
   "source": [
    "class_dict = defaultdict(int)\n",
    "\n",
    "f = open(\"iris-data.csv\",'r')\n",
    "\n",
    "print('Our total number of instances is:',count_inst(f,class_dict))\n",
    "\n",
    "for lbl in class_dict.keys():\n",
    "    print('For class', ... , 'we have', ..., 'instances.')\n",
    "\n",
    "f.close()"
   ]
  },
  {
   "cell_type": "markdown",
   "metadata": {
    "deletable": true,
    "editable": true
   },
   "source": [
    "- You should notice a couple of problems with the class labels; make a copy of the CSV file called `iris-clean.csv`, and edit the erroneous class labels with their (likely) correct values."
   ]
  },
  {
   "cell_type": "code",
   "execution_count": 5,
   "metadata": {
    "deletable": true,
    "editable": true
   },
   "outputs": [],
   "source": [
    "f = open(\"iris-data.csv\",'r')\n",
    "\n",
    "f_out = open(\"iris-clean.csv\",'w')\n",
    "\n",
    "for line in f:\n",
    "    ...\n",
    "    \n",
    "f.close()\n",
    "f_out.close()"
   ]
  },
  {
   "cell_type": "code",
   "execution_count": null,
   "metadata": {
    "collapsed": false,
    "deletable": true,
    "editable": true,
    "jupyter": {
     "outputs_hidden": false
    }
   },
   "outputs": [],
   "source": [
    "n_instances = 0\n",
    "class_dict = defaultdict(int)\n",
    "\n",
    "f = open(\"iris-clean.csv\",'r')\n",
    "# f = open(\"iris-clean.csv\",'r')\n",
    "\n",
    "print('Our total number of instances is:',count_inst(f,class_dict))\n",
    "\n",
    "for lbl in class_dict.keys():\n",
    "    print('For class', ... , 'we have', ..., 'instances.')\n",
    "\n",
    "f.close()"
   ]
  },
  {
   "cell_type": "markdown",
   "metadata": {
    "deletable": true,
    "editable": true
   },
   "source": [
    "### Exercise 2\n",
    "Before we can think about building a classifier, we should double–check that the data is formatted **correctly**. Confirm that the first line of the dataset is a header, which describes the expected format."
   ]
  },
  {
   "cell_type": "markdown",
   "metadata": {
    "deletable": true,
    "editable": true
   },
   "source": [
    "**(a)** Write a function `check-csv()` which returns `True` if every instance has the same number of fields (in this case, attribute values separated by commas), and `False` otherwise. Tgen check if your file has the correct format."
   ]
  },
  {
   "cell_type": "code",
   "execution_count": 36,
   "metadata": {
    "collapsed": true,
    "deletable": true,
    "editable": true,
    "jupyter": {
     "outputs_hidden": true
    }
   },
   "outputs": [],
   "source": [
    "def check_csv(filestream,n_fields):\n",
    "    ret_val = True\n",
    "    for line in filestream:\n",
    "        ...\n",
    "    return ret_val"
   ]
  },
  {
   "cell_type": "code",
   "execution_count": null,
   "metadata": {
    "collapsed": false,
    "deletable": true,
    "editable": true,
    "jupyter": {
     "outputs_hidden": false
    }
   },
   "outputs": [],
   "source": [
    "f = open(\"iris-clean.csv\",'r')\n",
    "\n",
    "header = f.readline()\n",
    "\n",
    "print(\"Header: \",header.strip())\n",
    "n_fields = len(header.strip().split(\",\"))\n",
    "\n",
    "print(\"CSV passes? \",check_csv(f,n_fields))\n",
    "f.close()"
   ]
  },
  {
   "cell_type": "markdown",
   "metadata": {
    "deletable": true,
    "editable": true
   },
   "source": [
    "**(b)** Write a function which, for each attribute, prints the number of instances where the attribute\n",
    "value is numeric. What do you observe?"
   ]
  },
  {
   "cell_type": "code",
   "execution_count": 56,
   "metadata": {
    "collapsed": true,
    "deletable": true,
    "editable": true,
    "jupyter": {
     "outputs_hidden": true
    }
   },
   "outputs": [],
   "source": [
    "def numeric_att_vals(filestream,n_fields):\n",
    "    att_counts = [0]*n_fields\n",
    "    for line in filestream:\n",
    "        instance = ...\n",
    "        for ctr in range(n_fields):\n",
    "            try:\n",
    "                float(instance[ctr])\n",
    "                att_counts[ctr]+=1\n",
    "            except ValueError:\n",
    "                print(\"A 'not numeric' value found in field :\",..., \", and it's value is\", ...)\n",
    "    return att_counts"
   ]
  },
  {
   "cell_type": "code",
   "execution_count": null,
   "metadata": {
    "collapsed": false,
    "deletable": true,
    "editable": true,
    "jupyter": {
     "outputs_hidden": false
    }
   },
   "outputs": [],
   "source": [
    "f = open(\"iris-clean.csv\",'r')\n",
    "\n",
    "n_field = len(f.readline().strip().split(\",\"))\n",
    "\n",
    "print(\"Numeric attribute value counts:\",numeric_att_vals(...))\n",
    "\n",
    "f.close()"
   ]
  },
  {
   "cell_type": "markdown",
   "metadata": {
    "deletable": true,
    "editable": true
   },
   "source": [
    "For the instances with non-numeric attribute values, the values appear to be missing. We can’t know what the true values of these attribute were supposed to be, but leaving them unknown might cause problems for our model.\n",
    "\n",
    "One possible approach toward solving this issue is replacing the missing values with the **mean of the observed values** for that attribute. \n",
    "\n",
    "To check if it an appropriate method for our data. We can use the `matplotlib` library to plot a histogram for the data as follows:"
   ]
  },
  {
   "cell_type": "code",
   "execution_count": null,
   "metadata": {
    "collapsed": false,
    "deletable": true,
    "editable": true,
    "jupyter": {
     "outputs_hidden": false
    }
   },
   "outputs": [],
   "source": [
    "sepal_lengths = []\n",
    "sepal_widths = []\n",
    "\n",
    "petal_lengths = []\n",
    "petal_widths = []\n",
    "\n",
    "with open(\"iris-clean.csv\",'r') as f:\n",
    "    f.readline()\n",
    "    for line in f:\n",
    "        att_vals = line.strip().split(\",\")\n",
    "        sl = att_vals[0]\n",
    "        if not(sl) == \"NA\":\n",
    "            sepal_lengths.append(float(sl))\n",
    "        sw = att_vals[1]\n",
    "        if not(sw) == \"NA\":\n",
    "            sepal_widths.append(float(sw))\n",
    "        pl = att_vals[2]\n",
    "        if not(pl) == \"NA\":\n",
    "            petal_lengths.append(float(pl))\n",
    "        pw = att_vals[3]\n",
    "        if not(pw) == \"NA\":\n",
    "            petal_widths.append(float(pw))\n",
    "            \n",
    "plt.title(\"Sepal Lengths (cm)\")\n",
    "plt.hist(np.array(sepal_lengths))\n",
    "plt.show()\n",
    "plt.title(\"Sepal Widths (cm)\")\n",
    "plt.hist(np.array(sepal_widths))\n",
    "plt.show()\n",
    "plt.title(\"Petal Lengths (cm)\")\n",
    "plt.hist(np.array(petal_lengths))\n",
    "plt.show()\n",
    "plt.title(\"Petal Widths (cm)\")\n",
    "plt.hist(np.array(petal_widths))\n",
    "plt.show()"
   ]
  },
  {
   "cell_type": "markdown",
   "metadata": {
    "deletable": true,
    "editable": true
   },
   "source": [
    "**(c)** Explian how these histograms can help us to see check if using the \"mean of the observed values\" is the proper method for solving the issue of missing value for an attribute"
   ]
  },
  {
   "cell_type": "markdown",
   "metadata": {},
   "source": [
    "** (d)** Explian why using the \"mean of the observed values\" is a bad idea for solving the issue of missing values the feature 4 ('Petal Widths'), based on the data you observe? Is there anything else we could do, so as to make mean imputation a plausible strategy here?"
   ]
  },
  {
   "cell_type": "markdown",
   "metadata": {
    "deletable": true,
    "editable": true
   },
   "source": [
    "### Exercise 3\n",
    "Use the method above to plot the histograms for the other attributes. You should observe some clear **outliers** in the attribute values. Take a look at the raw data, and see if you can guess what could have caused the outliers. Modify your `iris-clean.csv` copy of the data, to fix the outlying attribute values."
   ]
  },
  {
   "cell_type": "code",
   "execution_count": null,
   "metadata": {
    "collapsed": false,
    "deletable": true,
    "editable": true,
    "jupyter": {
     "outputs_hidden": false
    }
   },
   "outputs": [],
   "source": [
    "# Using a 2-d (or 3-d) list here would probably be better than several named lists\n",
    "# But the attribute set is small enough that it should be okay in this context\n",
    "sl_setosa = []\n",
    "sw_setosa = []\n",
    "pl_setosa = []\n",
    "sl_versicolor = []\n",
    "sw_versicolor = []\n",
    "pl_versicolor = []\n",
    "sl_virginica = []\n",
    "sw_virginica = []\n",
    "pl_virginica = []\n",
    "\n",
    "with open(\"iris-clean.csv\",'r') as f:\n",
    "    f.readline()\n",
    "    for line in f:\n",
    "        att_vals = line.strip().split(\",\")\n",
    "        sl = att_vals[0]\n",
    "        sw = att_vals[1]\n",
    "        pl = att_vals[2]\n",
    "        if att_vals[4] == \"Iris-setosa\":\n",
    "            if not(sl) == \"NA\": sl_setosa.append(float(sl))\n",
    "            if not(sw) == \"NA\": sw_setosa.append(float(sw))\n",
    "            if not(pl) == \"NA\": pl_setosa.append(float(pl))\n",
    "        elif att_vals[4] == \"Iris-versicolor\":\n",
    "            if not(sl) == \"NA\": sl_versicolor.append(float(sl))\n",
    "            if not(sw) == \"NA\": sw_versicolor.append(float(sw))\n",
    "            if not(pl) == \"NA\": pl_versicolor.append(float(pl))\n",
    "        elif att_vals[4] == \"Iris-virginica\":\n",
    "            if not(sl) == \"NA\": sl_virginica.append(float(sl))\n",
    "            if not(sw) == \"NA\": sw_virginica.append(float(sw))\n",
    "            if not(pl) == \"NA\": pl_virginica.append(float(pl))\n",
    "        else: print(\"Unexpected class: \",att_vals[4])\n",
    "                \n",
    "plt.title(\"Sepal Lengths (cm) by Iris type\")\n",
    "plt.hist(np.array(sl_setosa))\n",
    "plt.hist(np.array(sl_versicolor))\n",
    "plt.hist(np.array(sl_virginica))\n",
    "plt.show()\n",
    "\n",
    "plt.title(\"Sepal Widths (cm) by Iris type\")\n",
    "plt.hist(np.array(sw_setosa))\n",
    "plt.hist(np.array(sw_versicolor))\n",
    "plt.hist(np.array(sw_virginica))\n",
    "plt.show()\n",
    "\n",
    "plt.title(\"Petal Lengths (cm) by Iris type\")\n",
    "plt.hist(np.array(pl_setosa))\n",
    "plt.hist(np.array(pl_versicolor))\n",
    "plt.hist(np.array(pl_virginica))\n",
    "plt.show()"
   ]
  },
  {
   "cell_type": "markdown",
   "metadata": {
    "deletable": true,
    "editable": true
   },
   "source": [
    "### Exercise 4\n",
    "Let’s attempt to visualise some relationships in the data."
   ]
  },
  {
   "cell_type": "markdown",
   "metadata": {
    "deletable": true,
    "editable": true
   },
   "source": [
    "First let's make a scatter-plot of the sepal length vs. sepal width by using the following:"
   ]
  },
  {
   "cell_type": "code",
   "execution_count": null,
   "metadata": {
    "collapsed": false,
    "deletable": true,
    "editable": true,
    "jupyter": {
     "outputs_hidden": false
    }
   },
   "outputs": [],
   "source": [
    "sepal_lengths = []\n",
    "sepal_widths = []\n",
    "petal_lengths = []\n",
    "petal_widths = []\n",
    "with open(\"iris-clean.csv\",'r') as f:\n",
    "    f.readline()\n",
    "    for line in f:\n",
    "        att_vals = line.strip().split(\",\")\n",
    "        sl = att_vals[0]\n",
    "        if not(sl) == \"NA\":\n",
    "            sepal_lengths.append(float(sl))\n",
    "        sw = att_vals[1]\n",
    "        if not(sw) == \"NA\":\n",
    "            sepal_widths.append(float(sw))\n",
    "        pl = att_vals[2]\n",
    "        if not(pl) == \"NA\":\n",
    "            petal_lengths.append(float(pl))\n",
    "        pw = att_vals[3]\n",
    "        if not(pw) == \"NA\":\n",
    "            petal_widths.append(float(pw))\n",
    "        # Obviously, we would want a better strategy here\n",
    "        # But it's enough for now to record the handful of missing values as an impossible value\n",
    "        else: petal_widths.append(\"0\")\n",
    "            \n",
    "plt.title(\"Sepal length (cm) vs Sepal Width (cm)\")\n",
    "plt.scatter(np.array(sepal_lengths),np.array(sepal_widths))\n",
    "plt.show()"
   ]
  },
  {
   "cell_type": "markdown",
   "metadata": {},
   "source": [
    "**(a)** Can you identify a certain pattern in it?"
   ]
  },
  {
   "cell_type": "markdown",
   "metadata": {
    "deletable": true,
    "editable": true
   },
   "source": [
    "The scatter function takes an optional argument for colouring points, based on a list of strings (like `red` or `blue`). Let's replot our data using different colours for different classes."
   ]
  },
  {
   "cell_type": "code",
   "execution_count": null,
   "metadata": {
    "collapsed": false,
    "deletable": true,
    "editable": true,
    "jupyter": {
     "outputs_hidden": false
    }
   },
   "outputs": [],
   "source": [
    "# The data has the instances ordered by class\n",
    "# The first 50 are Iris-setosa, the next 50 are Iris-versicolor, and the final 50 are Iris-virginica\n",
    "# If the data wasn't sorted by class, we would have to do some more work here \n",
    "colours = 50*[\"red\"]+50*[\"green\"]+50*[\"blue\"]\n",
    "# As a brief aside, colourblind readers would want to discriminate using value/saturation instead of hue\n",
    "# and ideally also different shapes for the points of each class\n",
    "plt.title(\"Sepal length (cm) vs Sepal Width (cm)\")\n",
    "plt.scatter(np.array(sepal_lengths),np.array(sepal_widths),c=colours)\n",
    "plt.show()"
   ]
  },
  {
   "cell_type": "markdown",
   "metadata": {},
   "source": [
    "**(b)** Now can you identify a certain pattern?"
   ]
  },
  {
   "cell_type": "markdown",
   "metadata": {
    "deletable": true,
    "editable": true
   },
   "source": [
    "Now let's try making scatter-plots for different pairs of attributes. "
   ]
  },
  {
   "cell_type": "code",
   "execution_count": null,
   "metadata": {
    "collapsed": false,
    "deletable": true,
    "editable": true,
    "jupyter": {
     "outputs_hidden": false
    }
   },
   "outputs": [],
   "source": [
    "colours = 50*[\"red\"]+50*[\"green\"]+50*[\"blue\"]\n",
    "plt.title(\"Sepal length (cm) vs Petal length (cm)\")\n",
    "plt.scatter(np.array(sepal_lengths),np.array(petal_lengths),c=colours)\n",
    "plt.show()\n",
    "plt.title(\"Sepal length (cm) vs Petal width (cm)\")\n",
    "plt.scatter(np.array(sepal_lengths),np.array(petal_widths),c=colours)\n",
    "plt.show()\n",
    "plt.title(\"Sepal width (cm) vs Petal length (cm)\")\n",
    "plt.scatter(np.array(sepal_widths),np.array(petal_lengths),c=colours)\n",
    "plt.show()\n",
    "plt.title(\"Sepal width (cm) vs Petal width (cm)\")\n",
    "plt.scatter(np.array(sepal_widths),np.array(petal_widths),c=colours)\n",
    "plt.show()\n",
    "plt.title(\"Petal length (cm) vs Petal width (cm)\")\n",
    "plt.scatter(np.array(petal_lengths),np.array(petal_widths),c=colours)\n",
    "plt.show()"
   ]
  },
  {
   "cell_type": "markdown",
   "metadata": {},
   "source": [
    "**(c)** Do you notice anything that might suggest that one class is distinguishable from the others? How might this information be utilised by the Naive Bayes algorithm? What about other supervised machine learning methods?"
   ]
  }
 ],
 "metadata": {
  "kernelspec": {
   "display_name": "Python 3",
   "language": "python",
   "name": "python3"
  },
  "language_info": {
   "codemirror_mode": {
    "name": "ipython",
    "version": 3
   },
   "file_extension": ".py",
   "mimetype": "text/x-python",
   "name": "python",
   "nbconvert_exporter": "python",
   "pygments_lexer": "ipython3",
   "version": "3.8.3"
  }
 },
 "nbformat": 4,
 "nbformat_minor": 4
}
