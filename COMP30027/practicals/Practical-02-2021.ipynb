{
 "cells": [
  {
   "cell_type": "markdown",
   "metadata": {},
   "source": [
    "\n",
    "### The University of Melbourne, School of Computing and Information Systems\n",
    "# COMP30027 Machine Learning, 2021 Semester 1\n",
    "\n",
    "## Week 2 - Introduction"
   ]
  },
  {
   "cell_type": "markdown",
   "metadata": {},
   "source": [
    "Welcome to Jupyter Notebook—an interactive environment that mixes code, visualisations and text.\n",
    "\n",
    "Jupyter Notebook supports many programming languages (called \"kernels\" in the Jupyter lingo). In this course, we'll mainly be using Python 3 due to its popularity in the machine learning/data science communities. Information about the kernel is diplayed in the top right of the UI."
   ]
  },
  {
   "cell_type": "markdown",
   "metadata": {},
   "source": [
    "## Cells"
   ]
  },
  {
   "cell_type": "markdown",
   "metadata": {},
   "source": [
    "Notebooks are made up cells: *markdown cells* and *code cells*. \n",
    "This cell is an example of a markdown cell. \n",
    "Markdown cells can contain text, tables, images, equations, etc. \n",
    "(see the Markdown guide under the _Help_ menu for more info). \n",
    "\n",
    "You can edit a markdown cell by double-clicking on it. To convert cells to markdown, highlight the cell and hit `<M>`. To convert back to a code cell, hit `<Y>`.\n",
    "\n",
    "To evaluate the cell press the <button class='btn btn-default btn-xs'><i class=\"icon-step-forward fa fa-step-forward\"></i></button> button in the toolbar, or hit `<CTRL>+<ENTER>`. \n",
    "Try it below! "
   ]
  },
  {
   "cell_type": "markdown",
   "metadata": {},
   "source": [
    "--- **Edit me** ---"
   ]
  },
  {
   "cell_type": "markdown",
   "metadata": {},
   "source": [
    "Next are some code cells. \n",
    "You can evaluate them individually, using the <button class='btn btn-default btn-xs'><i class=\"icon-step-forward fa fa-step-forward\"></i></button> button or by hitting `<CTRL>+<ENTER>`. \n",
    "Often, you'll want to run all cells in the notebook, or below a certain point. The functions for doing this are in the _Cell_ menu."
   ]
  },
  {
   "cell_type": "code",
   "execution_count": null,
   "metadata": {
    "collapsed": true
   },
   "outputs": [],
   "source": [
    "message = \"Hello world!\""
   ]
  },
  {
   "cell_type": "code",
   "execution_count": null,
   "metadata": {
    "collapsed": true
   },
   "outputs": [],
   "source": [
    "print(message)"
   ]
  },
  {
   "cell_type": "markdown",
   "metadata": {},
   "source": [
    "Please ensure that the scipy, numpy, matplotlib, and sklearn packages are installed (although we won’t be\n",
    "using the latter two today)."
   ]
  },
  {
   "cell_type": "code",
   "execution_count": 15,
   "metadata": {
    "collapsed": true
   },
   "outputs": [],
   "source": [
    "import scipy\n",
    "import numpy as np \n",
    "import matplotlib as mpl\n",
    "import sklearn"
   ]
  },
  {
   "cell_type": "markdown",
   "metadata": {},
   "source": [
    "(You might wish to examine the installation instructions at http://scipy.org/install.html\n",
    "if you are considering using your local machine.)"
   ]
  },
  {
   "cell_type": "markdown",
   "metadata": {},
   "source": [
    "## NumPy Basics\n",
    "\n",
    "The main numpy object is a so-called “homogeneous multidimensional array” — note that this is a little less flexible than using a list or tuple, but it allows mathematical operations to be performed much faster. (And we’ll be doing a fair bit of number-crunching this semester, so this is an important property.) The following is an introduction to NumPy functions and properties."
   ]
  },
  {
   "cell_type": "markdown",
   "metadata": {},
   "source": [
    "### Creating Arrays"
   ]
  },
  {
   "cell_type": "code",
   "execution_count": 3,
   "metadata": {
    "collapsed": true
   },
   "outputs": [],
   "source": [
    "a = np.array([0, 1, 2, 3, 4])\n",
    "b = np.array([[0, 1, 2, 3, 4], [5, 6, 7, 8, 9]], dtype = float)\n",
    "c = np.array([[1, 6], [2, 7], [3, 8], [4, 9], [5, 10]], dtype = int)"
   ]
  },
  {
   "cell_type": "code",
   "execution_count": null,
   "metadata": {
    "collapsed": true
   },
   "outputs": [],
   "source": [
    "np.arange(0, 10)     # array of evenly spaced values"
   ]
  },
  {
   "cell_type": "code",
   "execution_count": null,
   "metadata": {
    "collapsed": true
   },
   "outputs": [],
   "source": [
    "np.zeros((2, 3))     # array of zeros with the given shape"
   ]
  },
  {
   "cell_type": "code",
   "execution_count": null,
   "metadata": {
    "collapsed": true
   },
   "outputs": [],
   "source": [
    "np.ones(2)           # array of ones with the given shape"
   ]
  },
  {
   "cell_type": "code",
   "execution_count": null,
   "metadata": {
    "collapsed": true
   },
   "outputs": [],
   "source": [
    "np.empty((2, 3))     # empty array (arbitrary values)"
   ]
  },
  {
   "cell_type": "code",
   "execution_count": null,
   "metadata": {
    "collapsed": true
   },
   "outputs": [],
   "source": [
    "np.full((2, 3), 3)   # fill new array with given shape"
   ]
  },
  {
   "cell_type": "markdown",
   "metadata": {},
   "source": [
    "### Inspecting an array"
   ]
  },
  {
   "cell_type": "code",
   "execution_count": null,
   "metadata": {
    "collapsed": true
   },
   "outputs": [],
   "source": [
    "b.size               # number of elements in the array"
   ]
  },
  {
   "cell_type": "code",
   "execution_count": null,
   "metadata": {
    "collapsed": true
   },
   "outputs": [],
   "source": [
    "b.ndim               # number of dimensions"
   ]
  },
  {
   "cell_type": "code",
   "execution_count": null,
   "metadata": {
    "collapsed": true
   },
   "outputs": [],
   "source": [
    "b.shape              # lengths of each dimension"
   ]
  },
  {
   "cell_type": "code",
   "execution_count": null,
   "metadata": {
    "collapsed": true
   },
   "outputs": [],
   "source": [
    "b.dtype              # data type of array elements"
   ]
  },
  {
   "cell_type": "markdown",
   "metadata": {},
   "source": [
    "### Numpy Basic operations\n"
   ]
  },
  {
   "cell_type": "markdown",
   "metadata": {},
   "source": [
    "Numpy supports vector (and matrix) operations,like addition, subtraction, and scalar multiplication.\n",
    "\n",
    "You need to be very, very careful about manipulating arrays of different sizes. numpy typically won’t throw exceptions. Instead, it will do \"something\": that something might be very intelligent, like automatically increasing the dimensionality of the smaller array to match the larger array — but if you aren’t expecting it, the errors can be very difficult to find."
   ]
  },
  {
   "cell_type": "code",
   "execution_count": 12,
   "metadata": {},
   "outputs": [],
   "source": [
    "a1 = np.array([0,1,2,3,4])\n",
    "a2 = np.array([1,3,-2,0,4])"
   ]
  },
  {
   "cell_type": "code",
   "execution_count": null,
   "metadata": {
    "collapsed": true
   },
   "outputs": [],
   "source": [
    "print(a1 + a2)                # element-wise addition (or np.add)"
   ]
  },
  {
   "cell_type": "code",
   "execution_count": null,
   "metadata": {
    "collapsed": true
   },
   "outputs": [],
   "source": [
    "print(a1 - a2)                # element-wise subtraction (or np.subtract)"
   ]
  },
  {
   "cell_type": "code",
   "execution_count": null,
   "metadata": {
    "collapsed": true
   },
   "outputs": [],
   "source": [
    "print(a1 * a2)                # element-wise multiplication (or np.multiply)"
   ]
  },
  {
   "cell_type": "code",
   "execution_count": null,
   "metadata": {
    "collapsed": true
   },
   "outputs": [],
   "source": [
    "print(a1 / a2)                # element-wise division (or np.divide)"
   ]
  },
  {
   "cell_type": "code",
   "execution_count": null,
   "metadata": {
    "collapsed": true
   },
   "outputs": [],
   "source": [
    "b.sum()              # sum elements"
   ]
  },
  {
   "cell_type": "code",
   "execution_count": null,
   "metadata": {
    "collapsed": true
   },
   "outputs": [],
   "source": [
    "b.min()              # minimum element"
   ]
  },
  {
   "cell_type": "code",
   "execution_count": null,
   "metadata": {
    "collapsed": true
   },
   "outputs": [],
   "source": [
    "b.max()              # maximum element"
   ]
  },
  {
   "cell_type": "code",
   "execution_count": null,
   "metadata": {
    "collapsed": true
   },
   "outputs": [],
   "source": [
    "b.mean()             # mean of elements"
   ]
  },
  {
   "cell_type": "code",
   "execution_count": 6,
   "metadata": {},
   "outputs": [],
   "source": [
    "a == a              # element-wise comparison"
   ]
  },
  {
   "cell_type": "markdown",
   "metadata": {},
   "source": [
    "#### Question 1\n",
    "How can we add (element-wise) arrays `b` and `c`? "
   ]
  },
  {
   "cell_type": "code",
   "execution_count": null,
   "metadata": {},
   "outputs": [],
   "source": []
  },
  {
   "cell_type": "markdown",
   "metadata": {},
   "source": [
    "#### Question 2\n",
    "What do you think would be the result of comparision `b < 2`? How about `a1 = a2`?"
   ]
  },
  {
   "cell_type": "code",
   "execution_count": null,
   "metadata": {},
   "outputs": [],
   "source": []
  },
  {
   "cell_type": "markdown",
   "metadata": {},
   "source": [
    "#### Question 3\n",
    "How can we check whether arrays have the same shape and elements?"
   ]
  },
  {
   "cell_type": "code",
   "execution_count": null,
   "metadata": {
    "collapsed": true
   },
   "outputs": [],
   "source": []
  },
  {
   "cell_type": "markdown",
   "metadata": {},
   "source": [
    "### Using Numpy arrays\n",
    "\n",
    "Numpy arrays can be indexed, sliced, and iterated over, similarly to lists. \n",
    "\n",
    "#### Exercise 1\n",
    "Write a function to calculate the **Euclidean distance** between $\\vec{a}$ and $\\vec{b}$. Use this function to calculate the eculadian Distance between `a1` and `a2`."
   ]
  },
  {
   "cell_type": "code",
   "execution_count": 8,
   "metadata": {
    "collapsed": true
   },
   "outputs": [],
   "source": [
    "def my_euclidean_dist(a, b):\n",
    "    assert len(a)==len(b), \"Arrays are of different sizes!\"\n",
    "    s = 0\n",
    "    return ..."
   ]
  },
  {
   "cell_type": "code",
   "execution_count": null,
   "metadata": {},
   "outputs": [],
   "source": [
    "print(my_euclidean_dist(a1, a2))"
   ]
  },
  {
   "cell_type": "markdown",
   "metadata": {},
   "source": [
    "### Numpy and Matrices\n",
    "\n",
    "Matrices can be made in numpy by wrapping a list of lists. For example the matrices M and N can be modeled in Numpy by using the following code.\n",
    "\n",
    "\\begin{align}\n",
    "    \\mathbf{M} = \\begin{pmatrix} \n",
    "        1 & 2 & 3 \\\\ 4 & 2 & 1 \\\\ 6 & 2 & 0 \n",
    "    \\end{pmatrix} \n",
    "    \\quad \\text{and} \\quad \n",
    "    \\mathbf{N} = \\begin{pmatrix} \n",
    "        0 & 3 & 1 \\\\ 1 & 1 & 4 \\\\ 2 & 0 & 3 \n",
    "    \\end{pmatrix}\n",
    "\\end{align}"
   ]
  },
  {
   "cell_type": "code",
   "execution_count": 16,
   "metadata": {
    "collapsed": true
   },
   "outputs": [],
   "source": [
    "M = np.array([[1,2,3],[4,2,1],[6,2,0]])\n",
    "N = np.array([[0,3,1],[1,1,4],[2,0,3]])"
   ]
  },
  {
   "cell_type": "markdown",
   "metadata": {},
   "source": [
    "You can use Numpy to perform all kind of **Linear Algebra** operations on these matrices. Such as:"
   ]
  },
  {
   "cell_type": "code",
   "execution_count": null,
   "metadata": {},
   "outputs": [],
   "source": [
    "np.transpose(M)                    # reverse the Matrix M"
   ]
  },
  {
   "cell_type": "code",
   "execution_count": null,
   "metadata": {},
   "outputs": [],
   "source": [
    "np.dot(M,N)                        # Calculate the dot product of M and N"
   ]
  },
  {
   "cell_type": "code",
   "execution_count": null,
   "metadata": {
    "collapsed": true
   },
   "outputs": [],
   "source": [
    "np.linalg.inv(M)                   # matrix inverse"
   ]
  },
  {
   "cell_type": "code",
   "execution_count": null,
   "metadata": {},
   "outputs": [],
   "source": [
    "np.eye(3)                          # identity matrix"
   ]
  },
  {
   "cell_type": "code",
   "execution_count": null,
   "metadata": {},
   "outputs": [],
   "source": [
    "np.reshape(M,9)                    # reshape the matrix to a 1D row"
   ]
  },
  {
   "cell_type": "code",
   "execution_count": null,
   "metadata": {},
   "outputs": [],
   "source": [
    "arr = np.reshape(range(9),(3,3))   # reshape the 1D row (range(9)) to a 3x3 matrix\n",
    "print(arr)"
   ]
  },
  {
   "cell_type": "code",
   "execution_count": null,
   "metadata": {},
   "outputs": [],
   "source": [
    "np.delete(arr, 0, 1)                # remove the first column of the matrix"
   ]
  },
  {
   "cell_type": "code",
   "execution_count": null,
   "metadata": {},
   "outputs": [],
   "source": [
    "np.delete(arr, 2, 0)                # remove the third row of the matrix"
   ]
  },
  {
   "cell_type": "markdown",
   "metadata": {},
   "source": [
    "#### Exercise 2\n",
    "\n",
    "Write a function that calculates the dot product between two vectors: A · B = $\\sum_{i} a_ib_i$. Find the between  first row of matrix `M` and the first column of matrix `N`.  "
   ]
  },
  {
   "cell_type": "code",
   "execution_count": 21,
   "metadata": {
    "collapsed": true
   },
   "outputs": [],
   "source": [
    "def my_dot(a,b):\n",
    "    assert len(a)==len(b), \"Arrays are of different sizes!\"\n",
    "    return ..."
   ]
  },
  {
   "cell_type": "code",
   "execution_count": null,
   "metadata": {},
   "outputs": [],
   "source": [
    "row = ...         #copies the first row from Matric M\n",
    "column = ...    #copies the first column from Matric N\n",
    "print(my_dot(row,column))"
   ]
  },
  {
   "cell_type": "markdown",
   "metadata": {},
   "source": [
    "#### Exercise 3\n",
    "Write a short script to compare:\n",
    "1. M * N and np.dot(M, N)\n",
    "2. N * M and np.dot(N, M)\n",
    "3. M * M and M**2 and np.dot(M, M)"
   ]
  },
  {
   "cell_type": "code",
   "execution_count": null,
   "metadata": {
    "collapsed": true
   },
   "outputs": [],
   "source": [
    "print(\"M*N\",...)\n",
    "print(\"M.N\",...)\n",
    "print(\"N*M\",...)\n",
    "print(\"N.M\",...)\n",
    "print(\"M*M\",...)\n",
    "print(\"M**2\",...)\n",
    "print(\"M.M\",...)"
   ]
  },
  {
   "cell_type": "markdown",
   "metadata": {},
   "source": [
    "You can probably see that the multiplication (and exponentiation) operation happens element-wise, namely:\n",
    "$MN[i][j] = M[i][j] * N[i][j]$\n",
    "\n",
    "This is actually convenient in certain contexts, but is certainly not how we typically wish to multiply matrices!"
   ]
  },
  {
   "cell_type": "markdown",
   "metadata": {},
   "source": [
    "#### Exercise 4\n",
    "Consider the matrix **T1** as\n",
    "\\begin{align}\n",
    "    \\mathbf{T1} = \\begin{pmatrix} \n",
    "        1 & 2 & 3 \\\\ 4 & 5 & 6 \n",
    "    \\end{pmatrix} \n",
    "\\end{align}\n",
    "and arrays T2 & T3 as **T2** = `<7, 8, 9>` **T3** = `<10, 20, 30>`. Right a script to do the following:\n",
    "(a) add **T2** as the third row to **T1**; \n",
    "(b) add **T3** as the forth column to the result matrix"
   ]
  },
  {
   "cell_type": "code",
   "execution_count": null,
   "metadata": {},
   "outputs": [],
   "source": [
    "T1 = ...\n",
    "T2 = ...\n",
    "T3 = ...\n",
    "\n",
    "R1 = np.concatenate(...)\n",
    "print(\"R1\",R1)\n",
    "\n",
    "R2 = np.concatenate(...)\n",
    "print(\"R2\",R2)"
   ]
  },
  {
   "cell_type": "markdown",
   "metadata": {},
   "source": [
    "## Getting Help\n",
    "Confused about a particular function / method? Putting a question mark `<?>` after the object in question will return the docstring."
   ]
  },
  {
   "cell_type": "code",
   "execution_count": null,
   "metadata": {
    "collapsed": true,
    "scrolled": true
   },
   "outputs": [],
   "source": [
    "np.random.normal?"
   ]
  },
  {
   "cell_type": "markdown",
   "metadata": {},
   "source": [
    "## Interrupting/restarting the kernel"
   ]
  },
  {
   "cell_type": "markdown",
   "metadata": {},
   "source": [
    "Code is run in the kernel process. You can interrupt the kernel by pressing the stop button <button class='btn btn-default btn-xs'><i class='icon-stop fa fa-stop'></i></button> in the toolbar. Try it out below."
   ]
  },
  {
   "cell_type": "code",
   "execution_count": null,
   "metadata": {
    "collapsed": true
   },
   "outputs": [],
   "source": [
    "import time\n",
    "time.sleep(10)"
   ]
  },
  {
   "cell_type": "markdown",
   "metadata": {},
   "source": [
    "Occassionally you may want to restart the kernel (e.g. to clear the namespace). You can do this by pressing the <button class='btn btn-default btn-xs'><i class='icon-epeat fa fa-repeat'></i></button> button in the toolbar. You can find more options under the _Kernel_ menu."
   ]
  }
 ],
 "metadata": {
  "kernelspec": {
   "display_name": "Python 3",
   "language": "python",
   "name": "python3"
  },
  "language_info": {
   "codemirror_mode": {
    "name": "ipython",
    "version": 3
   },
   "file_extension": ".py",
   "mimetype": "text/x-python",
   "name": "python",
   "nbconvert_exporter": "python",
   "pygments_lexer": "ipython3",
   "version": "3.8.3"
  }
 },
 "nbformat": 4,
 "nbformat_minor": 4
}
